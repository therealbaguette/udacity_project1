{
 "cells": [
  {
   "cell_type": "markdown",
   "metadata": {},
   "source": [
    "# Udacity Project: Writing a Data Science Blog Post"
   ]
  },
  {
   "cell_type": "code",
   "execution_count": 297,
   "metadata": {},
   "outputs": [],
   "source": [
    "import pandas as pd\n",
    "from pathlib import Path\n",
    "import matplotlib.pyplot as plt\n",
    "import seaborn as sns\n",
    "from sklearn.linear_model import LinearRegression\n",
    "from sklearn.model_selection import train_test_split\n",
    "from sklearn.metrics import r2_score, mean_squared_error\n",
    "import numpy as np"
   ]
  },
  {
   "cell_type": "markdown",
   "metadata": {},
   "source": [
    "## Introduction\n",
    "\n",
    "### Dataset\n",
    "For this project, the Seattle Airbnb Dataset was chosen. \n",
    "\n",
    "Since 2008, Airbnb has been facilitating a distinctive and personalized way of travel for both guests and hosts. This dataset, a component of the Airbnb Inside initiative, outlines the listing activity of homestays in Seattle, WA.\n",
    "\n",
    "The Seattle dataset encompasses the following Airbnb activities:\n",
    "* Listings, comprising comprehensive descriptions and average review scores.\n",
    "* Reviews, featuring unique identifiers for each reviewer along with detailed comments.\n",
    "* Calendar, incorporating listing IDs, daily prices, and availability information.\n",
    "\n",
    "\n",
    "### Business Background and Questions \n",
    "\n",
    "This dataset could be utilized by an investor seeking to purchase a condominium and lease it through Airbnb. The investor may be interested in determining the optimal district for acquiring a flat and strategies for achieving a high occupancy rate.\n",
    "\n",
    "Key business questions are:\n",
    "\n",
    "* Which neighborhoods in Seattle are the most popular?\n",
    "* What are the peak and off-peak months in terms of expense and activity for staying in an Airbnb in Seattle?\n",
    "* What variables hold the most significance in attaining a high occupancy rate?"
   ]
  },
  {
   "cell_type": "markdown",
   "metadata": {},
   "source": [
    "## Gathering Data"
   ]
  },
  {
   "cell_type": "code",
   "execution_count": 298,
   "metadata": {},
   "outputs": [],
   "source": [
    "# import datasets into pandas dataframe\n",
    "\n",
    "input_path = Path('archive')\n",
    "\n",
    "df_calendar = pd.read_csv(input_path/'calendar.csv', sep=',')\n",
    "df_listings = pd.read_csv(input_path/'listings.csv', sep=',')\n",
    "df_reviews = pd.read_csv(input_path/'reviews.csv', sep=',')"
   ]
  },
  {
   "cell_type": "markdown",
   "metadata": {},
   "source": [
    "## Discovering Datasets\n",
    "\n",
    "The datasets will be investigated to see what kind of data is included, if data is missing and what information is most valuable to answer the business quenstions."
   ]
  },
  {
   "cell_type": "markdown",
   "metadata": {},
   "source": [
    "### Calender"
   ]
  },
  {
   "cell_type": "code",
   "execution_count": 299,
   "metadata": {},
   "outputs": [
    {
     "data": {
      "text/html": [
       "<div>\n",
       "<style scoped>\n",
       "    .dataframe tbody tr th:only-of-type {\n",
       "        vertical-align: middle;\n",
       "    }\n",
       "\n",
       "    .dataframe tbody tr th {\n",
       "        vertical-align: top;\n",
       "    }\n",
       "\n",
       "    .dataframe thead th {\n",
       "        text-align: right;\n",
       "    }\n",
       "</style>\n",
       "<table border=\"1\" class=\"dataframe\">\n",
       "  <thead>\n",
       "    <tr style=\"text-align: right;\">\n",
       "      <th></th>\n",
       "      <th>listing_id</th>\n",
       "      <th>date</th>\n",
       "      <th>available</th>\n",
       "      <th>price</th>\n",
       "    </tr>\n",
       "  </thead>\n",
       "  <tbody>\n",
       "    <tr>\n",
       "      <th>0</th>\n",
       "      <td>241032</td>\n",
       "      <td>2016-01-04</td>\n",
       "      <td>t</td>\n",
       "      <td>$85.00</td>\n",
       "    </tr>\n",
       "    <tr>\n",
       "      <th>1</th>\n",
       "      <td>241032</td>\n",
       "      <td>2016-01-05</td>\n",
       "      <td>t</td>\n",
       "      <td>$85.00</td>\n",
       "    </tr>\n",
       "    <tr>\n",
       "      <th>2</th>\n",
       "      <td>241032</td>\n",
       "      <td>2016-01-06</td>\n",
       "      <td>f</td>\n",
       "      <td>NaN</td>\n",
       "    </tr>\n",
       "    <tr>\n",
       "      <th>3</th>\n",
       "      <td>241032</td>\n",
       "      <td>2016-01-07</td>\n",
       "      <td>f</td>\n",
       "      <td>NaN</td>\n",
       "    </tr>\n",
       "    <tr>\n",
       "      <th>4</th>\n",
       "      <td>241032</td>\n",
       "      <td>2016-01-08</td>\n",
       "      <td>f</td>\n",
       "      <td>NaN</td>\n",
       "    </tr>\n",
       "  </tbody>\n",
       "</table>\n",
       "</div>"
      ],
      "text/plain": [
       "   listing_id        date available   price\n",
       "0      241032  2016-01-04         t  $85.00\n",
       "1      241032  2016-01-05         t  $85.00\n",
       "2      241032  2016-01-06         f     NaN\n",
       "3      241032  2016-01-07         f     NaN\n",
       "4      241032  2016-01-08         f     NaN"
      ]
     },
     "execution_count": 299,
     "metadata": {},
     "output_type": "execute_result"
    }
   ],
   "source": [
    "df_calendar.head()"
   ]
  },
  {
   "cell_type": "code",
   "execution_count": 300,
   "metadata": {},
   "outputs": [
    {
     "name": "stdout",
     "output_type": "stream",
     "text": [
      "<class 'pandas.core.frame.DataFrame'>\n",
      "RangeIndex: 1393570 entries, 0 to 1393569\n",
      "Data columns (total 4 columns):\n",
      " #   Column      Non-Null Count    Dtype \n",
      "---  ------      --------------    ----- \n",
      " 0   listing_id  1393570 non-null  int64 \n",
      " 1   date        1393570 non-null  object\n",
      " 2   available   1393570 non-null  object\n",
      " 3   price       934542 non-null   object\n",
      "dtypes: int64(1), object(3)\n",
      "memory usage: 42.5+ MB\n"
     ]
    }
   ],
   "source": [
    "df_calendar.info()"
   ]
  },
  {
   "cell_type": "markdown",
   "metadata": {},
   "source": [
    "The price column seem to have some missing values"
   ]
  },
  {
   "cell_type": "code",
   "execution_count": 301,
   "metadata": {},
   "outputs": [
    {
     "data": {
      "text/plain": [
       "available\n",
       "t    934542\n",
       "f    459028\n",
       "Name: count, dtype: int64"
      ]
     },
     "execution_count": 301,
     "metadata": {},
     "output_type": "execute_result"
    }
   ],
   "source": [
    "df_calendar.available.value_counts()"
   ]
  },
  {
   "cell_type": "markdown",
   "metadata": {},
   "source": [
    "The column 'available' has only two different values."
   ]
  },
  {
   "cell_type": "markdown",
   "metadata": {},
   "source": [
    "### Listings"
   ]
  },
  {
   "cell_type": "code",
   "execution_count": 302,
   "metadata": {},
   "outputs": [
    {
     "data": {
      "text/html": [
       "<div>\n",
       "<style scoped>\n",
       "    .dataframe tbody tr th:only-of-type {\n",
       "        vertical-align: middle;\n",
       "    }\n",
       "\n",
       "    .dataframe tbody tr th {\n",
       "        vertical-align: top;\n",
       "    }\n",
       "\n",
       "    .dataframe thead th {\n",
       "        text-align: right;\n",
       "    }\n",
       "</style>\n",
       "<table border=\"1\" class=\"dataframe\">\n",
       "  <thead>\n",
       "    <tr style=\"text-align: right;\">\n",
       "      <th></th>\n",
       "      <th>id</th>\n",
       "      <th>listing_url</th>\n",
       "      <th>scrape_id</th>\n",
       "      <th>last_scraped</th>\n",
       "      <th>name</th>\n",
       "      <th>summary</th>\n",
       "      <th>space</th>\n",
       "      <th>description</th>\n",
       "      <th>experiences_offered</th>\n",
       "      <th>neighborhood_overview</th>\n",
       "      <th>...</th>\n",
       "      <th>review_scores_value</th>\n",
       "      <th>requires_license</th>\n",
       "      <th>license</th>\n",
       "      <th>jurisdiction_names</th>\n",
       "      <th>instant_bookable</th>\n",
       "      <th>cancellation_policy</th>\n",
       "      <th>require_guest_profile_picture</th>\n",
       "      <th>require_guest_phone_verification</th>\n",
       "      <th>calculated_host_listings_count</th>\n",
       "      <th>reviews_per_month</th>\n",
       "    </tr>\n",
       "  </thead>\n",
       "  <tbody>\n",
       "    <tr>\n",
       "      <th>0</th>\n",
       "      <td>241032</td>\n",
       "      <td>https://www.airbnb.com/rooms/241032</td>\n",
       "      <td>20160104002432</td>\n",
       "      <td>2016-01-04</td>\n",
       "      <td>Stylish Queen Anne Apartment</td>\n",
       "      <td>NaN</td>\n",
       "      <td>Make your self at home in this charming one-be...</td>\n",
       "      <td>Make your self at home in this charming one-be...</td>\n",
       "      <td>none</td>\n",
       "      <td>NaN</td>\n",
       "      <td>...</td>\n",
       "      <td>10.0</td>\n",
       "      <td>f</td>\n",
       "      <td>NaN</td>\n",
       "      <td>WASHINGTON</td>\n",
       "      <td>f</td>\n",
       "      <td>moderate</td>\n",
       "      <td>f</td>\n",
       "      <td>f</td>\n",
       "      <td>2</td>\n",
       "      <td>4.07</td>\n",
       "    </tr>\n",
       "    <tr>\n",
       "      <th>1</th>\n",
       "      <td>953595</td>\n",
       "      <td>https://www.airbnb.com/rooms/953595</td>\n",
       "      <td>20160104002432</td>\n",
       "      <td>2016-01-04</td>\n",
       "      <td>Bright &amp; Airy Queen Anne Apartment</td>\n",
       "      <td>Chemically sensitive? We've removed the irrita...</td>\n",
       "      <td>Beautiful, hypoallergenic apartment in an extr...</td>\n",
       "      <td>Chemically sensitive? We've removed the irrita...</td>\n",
       "      <td>none</td>\n",
       "      <td>Queen Anne is a wonderful, truly functional vi...</td>\n",
       "      <td>...</td>\n",
       "      <td>10.0</td>\n",
       "      <td>f</td>\n",
       "      <td>NaN</td>\n",
       "      <td>WASHINGTON</td>\n",
       "      <td>f</td>\n",
       "      <td>strict</td>\n",
       "      <td>t</td>\n",
       "      <td>t</td>\n",
       "      <td>6</td>\n",
       "      <td>1.48</td>\n",
       "    </tr>\n",
       "    <tr>\n",
       "      <th>2</th>\n",
       "      <td>3308979</td>\n",
       "      <td>https://www.airbnb.com/rooms/3308979</td>\n",
       "      <td>20160104002432</td>\n",
       "      <td>2016-01-04</td>\n",
       "      <td>New Modern House-Amazing water view</td>\n",
       "      <td>New modern house built in 2013.  Spectacular s...</td>\n",
       "      <td>Our house is modern, light and fresh with a wa...</td>\n",
       "      <td>New modern house built in 2013.  Spectacular s...</td>\n",
       "      <td>none</td>\n",
       "      <td>Upper Queen Anne is a charming neighborhood fu...</td>\n",
       "      <td>...</td>\n",
       "      <td>10.0</td>\n",
       "      <td>f</td>\n",
       "      <td>NaN</td>\n",
       "      <td>WASHINGTON</td>\n",
       "      <td>f</td>\n",
       "      <td>strict</td>\n",
       "      <td>f</td>\n",
       "      <td>f</td>\n",
       "      <td>2</td>\n",
       "      <td>1.15</td>\n",
       "    </tr>\n",
       "    <tr>\n",
       "      <th>3</th>\n",
       "      <td>7421966</td>\n",
       "      <td>https://www.airbnb.com/rooms/7421966</td>\n",
       "      <td>20160104002432</td>\n",
       "      <td>2016-01-04</td>\n",
       "      <td>Queen Anne Chateau</td>\n",
       "      <td>A charming apartment that sits atop Queen Anne...</td>\n",
       "      <td>NaN</td>\n",
       "      <td>A charming apartment that sits atop Queen Anne...</td>\n",
       "      <td>none</td>\n",
       "      <td>NaN</td>\n",
       "      <td>...</td>\n",
       "      <td>NaN</td>\n",
       "      <td>f</td>\n",
       "      <td>NaN</td>\n",
       "      <td>WASHINGTON</td>\n",
       "      <td>f</td>\n",
       "      <td>flexible</td>\n",
       "      <td>f</td>\n",
       "      <td>f</td>\n",
       "      <td>1</td>\n",
       "      <td>NaN</td>\n",
       "    </tr>\n",
       "    <tr>\n",
       "      <th>4</th>\n",
       "      <td>278830</td>\n",
       "      <td>https://www.airbnb.com/rooms/278830</td>\n",
       "      <td>20160104002432</td>\n",
       "      <td>2016-01-04</td>\n",
       "      <td>Charming craftsman 3 bdm house</td>\n",
       "      <td>Cozy family craftman house in beautiful neighb...</td>\n",
       "      <td>Cozy family craftman house in beautiful neighb...</td>\n",
       "      <td>Cozy family craftman house in beautiful neighb...</td>\n",
       "      <td>none</td>\n",
       "      <td>We are in the beautiful neighborhood of Queen ...</td>\n",
       "      <td>...</td>\n",
       "      <td>9.0</td>\n",
       "      <td>f</td>\n",
       "      <td>NaN</td>\n",
       "      <td>WASHINGTON</td>\n",
       "      <td>f</td>\n",
       "      <td>strict</td>\n",
       "      <td>f</td>\n",
       "      <td>f</td>\n",
       "      <td>1</td>\n",
       "      <td>0.89</td>\n",
       "    </tr>\n",
       "  </tbody>\n",
       "</table>\n",
       "<p>5 rows × 92 columns</p>\n",
       "</div>"
      ],
      "text/plain": [
       "        id                           listing_url       scrape_id last_scraped  \\\n",
       "0   241032   https://www.airbnb.com/rooms/241032  20160104002432   2016-01-04   \n",
       "1   953595   https://www.airbnb.com/rooms/953595  20160104002432   2016-01-04   \n",
       "2  3308979  https://www.airbnb.com/rooms/3308979  20160104002432   2016-01-04   \n",
       "3  7421966  https://www.airbnb.com/rooms/7421966  20160104002432   2016-01-04   \n",
       "4   278830   https://www.airbnb.com/rooms/278830  20160104002432   2016-01-04   \n",
       "\n",
       "                                  name  \\\n",
       "0         Stylish Queen Anne Apartment   \n",
       "1   Bright & Airy Queen Anne Apartment   \n",
       "2  New Modern House-Amazing water view   \n",
       "3                   Queen Anne Chateau   \n",
       "4       Charming craftsman 3 bdm house   \n",
       "\n",
       "                                             summary  \\\n",
       "0                                                NaN   \n",
       "1  Chemically sensitive? We've removed the irrita...   \n",
       "2  New modern house built in 2013.  Spectacular s...   \n",
       "3  A charming apartment that sits atop Queen Anne...   \n",
       "4  Cozy family craftman house in beautiful neighb...   \n",
       "\n",
       "                                               space  \\\n",
       "0  Make your self at home in this charming one-be...   \n",
       "1  Beautiful, hypoallergenic apartment in an extr...   \n",
       "2  Our house is modern, light and fresh with a wa...   \n",
       "3                                                NaN   \n",
       "4  Cozy family craftman house in beautiful neighb...   \n",
       "\n",
       "                                         description experiences_offered  \\\n",
       "0  Make your self at home in this charming one-be...                none   \n",
       "1  Chemically sensitive? We've removed the irrita...                none   \n",
       "2  New modern house built in 2013.  Spectacular s...                none   \n",
       "3  A charming apartment that sits atop Queen Anne...                none   \n",
       "4  Cozy family craftman house in beautiful neighb...                none   \n",
       "\n",
       "                               neighborhood_overview  ... review_scores_value  \\\n",
       "0                                                NaN  ...                10.0   \n",
       "1  Queen Anne is a wonderful, truly functional vi...  ...                10.0   \n",
       "2  Upper Queen Anne is a charming neighborhood fu...  ...                10.0   \n",
       "3                                                NaN  ...                 NaN   \n",
       "4  We are in the beautiful neighborhood of Queen ...  ...                 9.0   \n",
       "\n",
       "  requires_license license jurisdiction_names instant_bookable  \\\n",
       "0                f     NaN         WASHINGTON                f   \n",
       "1                f     NaN         WASHINGTON                f   \n",
       "2                f     NaN         WASHINGTON                f   \n",
       "3                f     NaN         WASHINGTON                f   \n",
       "4                f     NaN         WASHINGTON                f   \n",
       "\n",
       "  cancellation_policy  require_guest_profile_picture  \\\n",
       "0            moderate                              f   \n",
       "1              strict                              t   \n",
       "2              strict                              f   \n",
       "3            flexible                              f   \n",
       "4              strict                              f   \n",
       "\n",
       "  require_guest_phone_verification calculated_host_listings_count  \\\n",
       "0                                f                              2   \n",
       "1                                t                              6   \n",
       "2                                f                              2   \n",
       "3                                f                              1   \n",
       "4                                f                              1   \n",
       "\n",
       "  reviews_per_month  \n",
       "0              4.07  \n",
       "1              1.48  \n",
       "2              1.15  \n",
       "3               NaN  \n",
       "4              0.89  \n",
       "\n",
       "[5 rows x 92 columns]"
      ]
     },
     "execution_count": 302,
     "metadata": {},
     "output_type": "execute_result"
    }
   ],
   "source": [
    "df_listings.head()"
   ]
  },
  {
   "cell_type": "code",
   "execution_count": 303,
   "metadata": {},
   "outputs": [
    {
     "name": "stdout",
     "output_type": "stream",
     "text": [
      "<class 'pandas.core.frame.DataFrame'>\n",
      "RangeIndex: 3818 entries, 0 to 3817\n",
      "Data columns (total 92 columns):\n",
      " #   Column                            Non-Null Count  Dtype  \n",
      "---  ------                            --------------  -----  \n",
      " 0   id                                3818 non-null   int64  \n",
      " 1   listing_url                       3818 non-null   object \n",
      " 2   scrape_id                         3818 non-null   int64  \n",
      " 3   last_scraped                      3818 non-null   object \n",
      " 4   name                              3818 non-null   object \n",
      " 5   summary                           3641 non-null   object \n",
      " 6   space                             3249 non-null   object \n",
      " 7   description                       3818 non-null   object \n",
      " 8   experiences_offered               3818 non-null   object \n",
      " 9   neighborhood_overview             2786 non-null   object \n",
      " 10  notes                             2212 non-null   object \n",
      " 11  transit                           2884 non-null   object \n",
      " 12  thumbnail_url                     3498 non-null   object \n",
      " 13  medium_url                        3498 non-null   object \n",
      " 14  picture_url                       3818 non-null   object \n",
      " 15  xl_picture_url                    3498 non-null   object \n",
      " 16  host_id                           3818 non-null   int64  \n",
      " 17  host_url                          3818 non-null   object \n",
      " 18  host_name                         3816 non-null   object \n",
      " 19  host_since                        3816 non-null   object \n",
      " 20  host_location                     3810 non-null   object \n",
      " 21  host_about                        2959 non-null   object \n",
      " 22  host_response_time                3295 non-null   object \n",
      " 23  host_response_rate                3295 non-null   object \n",
      " 24  host_acceptance_rate              3045 non-null   object \n",
      " 25  host_is_superhost                 3816 non-null   object \n",
      " 26  host_thumbnail_url                3816 non-null   object \n",
      " 27  host_picture_url                  3816 non-null   object \n",
      " 28  host_neighbourhood                3518 non-null   object \n",
      " 29  host_listings_count               3816 non-null   float64\n",
      " 30  host_total_listings_count         3816 non-null   float64\n",
      " 31  host_verifications                3816 non-null   object \n",
      " 32  host_has_profile_pic              3816 non-null   object \n",
      " 33  host_identity_verified            3816 non-null   object \n",
      " 34  street                            3818 non-null   object \n",
      " 35  neighbourhood                     3402 non-null   object \n",
      " 36  neighbourhood_cleansed            3818 non-null   object \n",
      " 37  neighbourhood_group_cleansed      3818 non-null   object \n",
      " 38  city                              3818 non-null   object \n",
      " 39  state                             3818 non-null   object \n",
      " 40  zipcode                           3811 non-null   object \n",
      " 41  market                            3818 non-null   object \n",
      " 42  smart_location                    3818 non-null   object \n",
      " 43  country_code                      3818 non-null   object \n",
      " 44  country                           3818 non-null   object \n",
      " 45  latitude                          3818 non-null   float64\n",
      " 46  longitude                         3818 non-null   float64\n",
      " 47  is_location_exact                 3818 non-null   object \n",
      " 48  property_type                     3817 non-null   object \n",
      " 49  room_type                         3818 non-null   object \n",
      " 50  accommodates                      3818 non-null   int64  \n",
      " 51  bathrooms                         3802 non-null   float64\n",
      " 52  bedrooms                          3812 non-null   float64\n",
      " 53  beds                              3817 non-null   float64\n",
      " 54  bed_type                          3818 non-null   object \n",
      " 55  amenities                         3818 non-null   object \n",
      " 56  square_feet                       97 non-null     float64\n",
      " 57  price                             3818 non-null   object \n",
      " 58  weekly_price                      2009 non-null   object \n",
      " 59  monthly_price                     1517 non-null   object \n",
      " 60  security_deposit                  1866 non-null   object \n",
      " 61  cleaning_fee                      2788 non-null   object \n",
      " 62  guests_included                   3818 non-null   int64  \n",
      " 63  extra_people                      3818 non-null   object \n",
      " 64  minimum_nights                    3818 non-null   int64  \n",
      " 65  maximum_nights                    3818 non-null   int64  \n",
      " 66  calendar_updated                  3818 non-null   object \n",
      " 67  has_availability                  3818 non-null   object \n",
      " 68  availability_30                   3818 non-null   int64  \n",
      " 69  availability_60                   3818 non-null   int64  \n",
      " 70  availability_90                   3818 non-null   int64  \n",
      " 71  availability_365                  3818 non-null   int64  \n",
      " 72  calendar_last_scraped             3818 non-null   object \n",
      " 73  number_of_reviews                 3818 non-null   int64  \n",
      " 74  first_review                      3191 non-null   object \n",
      " 75  last_review                       3191 non-null   object \n",
      " 76  review_scores_rating              3171 non-null   float64\n",
      " 77  review_scores_accuracy            3160 non-null   float64\n",
      " 78  review_scores_cleanliness         3165 non-null   float64\n",
      " 79  review_scores_checkin             3160 non-null   float64\n",
      " 80  review_scores_communication       3167 non-null   float64\n",
      " 81  review_scores_location            3163 non-null   float64\n",
      " 82  review_scores_value               3162 non-null   float64\n",
      " 83  requires_license                  3818 non-null   object \n",
      " 84  license                           0 non-null      float64\n",
      " 85  jurisdiction_names                3818 non-null   object \n",
      " 86  instant_bookable                  3818 non-null   object \n",
      " 87  cancellation_policy               3818 non-null   object \n",
      " 88  require_guest_profile_picture     3818 non-null   object \n",
      " 89  require_guest_phone_verification  3818 non-null   object \n",
      " 90  calculated_host_listings_count    3818 non-null   int64  \n",
      " 91  reviews_per_month                 3191 non-null   float64\n",
      "dtypes: float64(17), int64(13), object(62)\n",
      "memory usage: 2.7+ MB\n"
     ]
    }
   ],
   "source": [
    "df_listings.info()"
   ]
  },
  {
   "cell_type": "markdown",
   "metadata": {},
   "source": [
    "This dataframe contains a lot of information. However, there are many missing values, which will be taken care of later."
   ]
  },
  {
   "cell_type": "markdown",
   "metadata": {},
   "source": [
    "Having a look how many different neighborhoods are in the dataset:"
   ]
  },
  {
   "cell_type": "code",
   "execution_count": 304,
   "metadata": {},
   "outputs": [
    {
     "data": {
      "text/plain": [
       "neighbourhood_group_cleansed\n",
       "Other neighborhoods    794\n",
       "Capitol Hill           567\n",
       "Downtown               530\n",
       "Central Area           369\n",
       "Queen Anne             295\n",
       "Ballard                230\n",
       "West Seattle           203\n",
       "Rainier Valley         159\n",
       "University District    122\n",
       "Beacon Hill            118\n",
       "Cascade                 89\n",
       "Northgate               80\n",
       "Delridge                79\n",
       "Lake City               67\n",
       "Magnolia                61\n",
       "Seward Park             44\n",
       "Interbay                11\n",
       "Name: count, dtype: int64"
      ]
     },
     "execution_count": 304,
     "metadata": {},
     "output_type": "execute_result"
    }
   ],
   "source": [
    "df_listings['neighbourhood_group_cleansed'].value_counts()"
   ]
  },
  {
   "cell_type": "markdown",
   "metadata": {},
   "source": [
    "### Reviews"
   ]
  },
  {
   "cell_type": "code",
   "execution_count": 305,
   "metadata": {},
   "outputs": [
    {
     "data": {
      "text/html": [
       "<div>\n",
       "<style scoped>\n",
       "    .dataframe tbody tr th:only-of-type {\n",
       "        vertical-align: middle;\n",
       "    }\n",
       "\n",
       "    .dataframe tbody tr th {\n",
       "        vertical-align: top;\n",
       "    }\n",
       "\n",
       "    .dataframe thead th {\n",
       "        text-align: right;\n",
       "    }\n",
       "</style>\n",
       "<table border=\"1\" class=\"dataframe\">\n",
       "  <thead>\n",
       "    <tr style=\"text-align: right;\">\n",
       "      <th></th>\n",
       "      <th>listing_id</th>\n",
       "      <th>id</th>\n",
       "      <th>date</th>\n",
       "      <th>reviewer_id</th>\n",
       "      <th>reviewer_name</th>\n",
       "      <th>comments</th>\n",
       "    </tr>\n",
       "  </thead>\n",
       "  <tbody>\n",
       "    <tr>\n",
       "      <th>0</th>\n",
       "      <td>7202016</td>\n",
       "      <td>38917982</td>\n",
       "      <td>2015-07-19</td>\n",
       "      <td>28943674</td>\n",
       "      <td>Bianca</td>\n",
       "      <td>Cute and cozy place. Perfect location to every...</td>\n",
       "    </tr>\n",
       "    <tr>\n",
       "      <th>1</th>\n",
       "      <td>7202016</td>\n",
       "      <td>39087409</td>\n",
       "      <td>2015-07-20</td>\n",
       "      <td>32440555</td>\n",
       "      <td>Frank</td>\n",
       "      <td>Kelly has a great room in a very central locat...</td>\n",
       "    </tr>\n",
       "    <tr>\n",
       "      <th>2</th>\n",
       "      <td>7202016</td>\n",
       "      <td>39820030</td>\n",
       "      <td>2015-07-26</td>\n",
       "      <td>37722850</td>\n",
       "      <td>Ian</td>\n",
       "      <td>Very spacious apartment, and in a great neighb...</td>\n",
       "    </tr>\n",
       "    <tr>\n",
       "      <th>3</th>\n",
       "      <td>7202016</td>\n",
       "      <td>40813543</td>\n",
       "      <td>2015-08-02</td>\n",
       "      <td>33671805</td>\n",
       "      <td>George</td>\n",
       "      <td>Close to Seattle Center and all it has to offe...</td>\n",
       "    </tr>\n",
       "    <tr>\n",
       "      <th>4</th>\n",
       "      <td>7202016</td>\n",
       "      <td>41986501</td>\n",
       "      <td>2015-08-10</td>\n",
       "      <td>34959538</td>\n",
       "      <td>Ming</td>\n",
       "      <td>Kelly was a great host and very accommodating ...</td>\n",
       "    </tr>\n",
       "  </tbody>\n",
       "</table>\n",
       "</div>"
      ],
      "text/plain": [
       "   listing_id        id        date  reviewer_id reviewer_name  \\\n",
       "0     7202016  38917982  2015-07-19     28943674        Bianca   \n",
       "1     7202016  39087409  2015-07-20     32440555         Frank   \n",
       "2     7202016  39820030  2015-07-26     37722850           Ian   \n",
       "3     7202016  40813543  2015-08-02     33671805        George   \n",
       "4     7202016  41986501  2015-08-10     34959538          Ming   \n",
       "\n",
       "                                            comments  \n",
       "0  Cute and cozy place. Perfect location to every...  \n",
       "1  Kelly has a great room in a very central locat...  \n",
       "2  Very spacious apartment, and in a great neighb...  \n",
       "3  Close to Seattle Center and all it has to offe...  \n",
       "4  Kelly was a great host and very accommodating ...  "
      ]
     },
     "execution_count": 305,
     "metadata": {},
     "output_type": "execute_result"
    }
   ],
   "source": [
    "df_reviews.head()"
   ]
  },
  {
   "cell_type": "code",
   "execution_count": 306,
   "metadata": {},
   "outputs": [
    {
     "name": "stdout",
     "output_type": "stream",
     "text": [
      "<class 'pandas.core.frame.DataFrame'>\n",
      "RangeIndex: 84849 entries, 0 to 84848\n",
      "Data columns (total 6 columns):\n",
      " #   Column         Non-Null Count  Dtype \n",
      "---  ------         --------------  ----- \n",
      " 0   listing_id     84849 non-null  int64 \n",
      " 1   id             84849 non-null  int64 \n",
      " 2   date           84849 non-null  object\n",
      " 3   reviewer_id    84849 non-null  int64 \n",
      " 4   reviewer_name  84849 non-null  object\n",
      " 5   comments       84831 non-null  object\n",
      "dtypes: int64(3), object(3)\n",
      "memory usage: 3.9+ MB\n"
     ]
    }
   ],
   "source": [
    "df_reviews.info()"
   ]
  },
  {
   "cell_type": "markdown",
   "metadata": {},
   "source": [
    "## Data Preparation"
   ]
  },
  {
   "cell_type": "markdown",
   "metadata": {},
   "source": [
    "####  Cleaning and Dealing with missing values\n",
    "\n",
    "* The column 'experiences_offered' only has none as values and can be dropped.\n",
    "* The column 'square_feet' has too many missing values and will not be considered in the further analysis."
   ]
  },
  {
   "cell_type": "code",
   "execution_count": 307,
   "metadata": {},
   "outputs": [],
   "source": [
    "df_listings = df_listings.drop('experiences_offered', axis=1)\n",
    "df_listings = df_listings.drop('square_feet', axis=1)\n",
    "df_listings.dropna(subset=['host_is_superhost'], inplace=True)"
   ]
  },
  {
   "cell_type": "markdown",
   "metadata": {},
   "source": [
    "### Formatting\n",
    "Some data needs to be formated in order to match the requirement of the analysis."
   ]
  },
  {
   "cell_type": "markdown",
   "metadata": {},
   "source": [
    "The price data in the dataframe has the type string. For the analysis floats are required. Also the unit $ will be removed."
   ]
  },
  {
   "cell_type": "code",
   "execution_count": 308,
   "metadata": {},
   "outputs": [],
   "source": [
    "# transform price to float\n",
    "df_calendar.price = df_calendar.price.str.replace('$', '')\n",
    "df_calendar.price = df_calendar.price.str.replace(',', '').astype(float)\n",
    "\n",
    "df_listings.cleaning_fee = df_listings.cleaning_fee.str.replace('$', '').astype(float)"
   ]
  },
  {
   "cell_type": "markdown",
   "metadata": {},
   "source": [
    "Dates need to be transformed from string to datetime using pandas."
   ]
  },
  {
   "cell_type": "code",
   "execution_count": 309,
   "metadata": {},
   "outputs": [],
   "source": [
    "# convert string to datetime\n",
    "df_calendar.date = pd.to_datetime(df_calendar.date)"
   ]
  },
  {
   "cell_type": "markdown",
   "metadata": {},
   "source": [
    "Calculating the average price for each listing_id"
   ]
  },
  {
   "cell_type": "code",
   "execution_count": 310,
   "metadata": {},
   "outputs": [
    {
     "data": {
      "text/html": [
       "<div>\n",
       "<style scoped>\n",
       "    .dataframe tbody tr th:only-of-type {\n",
       "        vertical-align: middle;\n",
       "    }\n",
       "\n",
       "    .dataframe tbody tr th {\n",
       "        vertical-align: top;\n",
       "    }\n",
       "\n",
       "    .dataframe thead th {\n",
       "        text-align: right;\n",
       "    }\n",
       "</style>\n",
       "<table border=\"1\" class=\"dataframe\">\n",
       "  <thead>\n",
       "    <tr style=\"text-align: right;\">\n",
       "      <th></th>\n",
       "      <th>price</th>\n",
       "    </tr>\n",
       "    <tr>\n",
       "      <th>listing_id</th>\n",
       "      <th></th>\n",
       "    </tr>\n",
       "  </thead>\n",
       "  <tbody>\n",
       "    <tr>\n",
       "      <th>3335</th>\n",
       "      <td>120.000000</td>\n",
       "    </tr>\n",
       "    <tr>\n",
       "      <th>4291</th>\n",
       "      <td>82.000000</td>\n",
       "    </tr>\n",
       "    <tr>\n",
       "      <th>5682</th>\n",
       "      <td>53.944984</td>\n",
       "    </tr>\n",
       "    <tr>\n",
       "      <th>6606</th>\n",
       "      <td>92.849315</td>\n",
       "    </tr>\n",
       "    <tr>\n",
       "      <th>7369</th>\n",
       "      <td>85.000000</td>\n",
       "    </tr>\n",
       "    <tr>\n",
       "      <th>...</th>\n",
       "      <td>...</td>\n",
       "    </tr>\n",
       "    <tr>\n",
       "      <th>10332096</th>\n",
       "      <td>40.000000</td>\n",
       "    </tr>\n",
       "    <tr>\n",
       "      <th>10334184</th>\n",
       "      <td>120.000000</td>\n",
       "    </tr>\n",
       "    <tr>\n",
       "      <th>10339144</th>\n",
       "      <td>NaN</td>\n",
       "    </tr>\n",
       "    <tr>\n",
       "      <th>10339145</th>\n",
       "      <td>237.904110</td>\n",
       "    </tr>\n",
       "    <tr>\n",
       "      <th>10340165</th>\n",
       "      <td>43.000000</td>\n",
       "    </tr>\n",
       "  </tbody>\n",
       "</table>\n",
       "<p>3818 rows × 1 columns</p>\n",
       "</div>"
      ],
      "text/plain": [
       "                 price\n",
       "listing_id            \n",
       "3335        120.000000\n",
       "4291         82.000000\n",
       "5682         53.944984\n",
       "6606         92.849315\n",
       "7369         85.000000\n",
       "...                ...\n",
       "10332096     40.000000\n",
       "10334184    120.000000\n",
       "10339144           NaN\n",
       "10339145    237.904110\n",
       "10340165     43.000000\n",
       "\n",
       "[3818 rows x 1 columns]"
      ]
     },
     "execution_count": 310,
     "metadata": {},
     "output_type": "execute_result"
    }
   ],
   "source": [
    "df_avg_price = df_calendar[['listing_id', 'price']].groupby('listing_id').mean()\n",
    "df_avg_price"
   ]
  },
  {
   "cell_type": "markdown",
   "metadata": {},
   "source": [
    "Calculating the days where the listing_id is booked out. It will be assumed that if the listing is not available, the accomodation is booked out."
   ]
  },
  {
   "cell_type": "code",
   "execution_count": 311,
   "metadata": {},
   "outputs": [
    {
     "data": {
      "text/plain": [
       "listing_id\n",
       "3335         56\n",
       "5682         56\n",
       "7369        312\n",
       "9460        308\n",
       "9531        185\n",
       "           ... \n",
       "10319529    364\n",
       "10331249     11\n",
       "10334184      4\n",
       "10339144    365\n",
       "10340165      7\n",
       "Name: available, Length: 3140, dtype: int64"
      ]
     },
     "execution_count": 311,
     "metadata": {},
     "output_type": "execute_result"
    }
   ],
   "source": [
    "df_booked = df_calendar[df_calendar.available == 'f'].groupby('listing_id').count().available\n",
    "df_booked"
   ]
  },
  {
   "cell_type": "markdown",
   "metadata": {},
   "source": [
    "Merging the calculated columns to the listing dataframe"
   ]
  },
  {
   "cell_type": "code",
   "execution_count": 312,
   "metadata": {},
   "outputs": [
    {
     "data": {
      "text/html": [
       "<div>\n",
       "<style scoped>\n",
       "    .dataframe tbody tr th:only-of-type {\n",
       "        vertical-align: middle;\n",
       "    }\n",
       "\n",
       "    .dataframe tbody tr th {\n",
       "        vertical-align: top;\n",
       "    }\n",
       "\n",
       "    .dataframe thead th {\n",
       "        text-align: right;\n",
       "    }\n",
       "</style>\n",
       "<table border=\"1\" class=\"dataframe\">\n",
       "  <thead>\n",
       "    <tr style=\"text-align: right;\">\n",
       "      <th></th>\n",
       "      <th>id</th>\n",
       "      <th>listing_url</th>\n",
       "      <th>scrape_id</th>\n",
       "      <th>last_scraped</th>\n",
       "      <th>name</th>\n",
       "      <th>summary</th>\n",
       "      <th>space</th>\n",
       "      <th>description</th>\n",
       "      <th>neighborhood_overview</th>\n",
       "      <th>notes</th>\n",
       "      <th>...</th>\n",
       "      <th>license</th>\n",
       "      <th>jurisdiction_names</th>\n",
       "      <th>instant_bookable</th>\n",
       "      <th>cancellation_policy</th>\n",
       "      <th>require_guest_profile_picture</th>\n",
       "      <th>require_guest_phone_verification</th>\n",
       "      <th>calculated_host_listings_count</th>\n",
       "      <th>reviews_per_month</th>\n",
       "      <th>days_booked</th>\n",
       "      <th>avg_price</th>\n",
       "    </tr>\n",
       "  </thead>\n",
       "  <tbody>\n",
       "    <tr>\n",
       "      <th>0</th>\n",
       "      <td>241032</td>\n",
       "      <td>https://www.airbnb.com/rooms/241032</td>\n",
       "      <td>20160104002432</td>\n",
       "      <td>2016-01-04</td>\n",
       "      <td>Stylish Queen Anne Apartment</td>\n",
       "      <td>NaN</td>\n",
       "      <td>Make your self at home in this charming one-be...</td>\n",
       "      <td>Make your self at home in this charming one-be...</td>\n",
       "      <td>NaN</td>\n",
       "      <td>NaN</td>\n",
       "      <td>...</td>\n",
       "      <td>NaN</td>\n",
       "      <td>WASHINGTON</td>\n",
       "      <td>f</td>\n",
       "      <td>moderate</td>\n",
       "      <td>f</td>\n",
       "      <td>f</td>\n",
       "      <td>2</td>\n",
       "      <td>4.07</td>\n",
       "      <td>19</td>\n",
       "      <td>85.000000</td>\n",
       "    </tr>\n",
       "    <tr>\n",
       "      <th>1</th>\n",
       "      <td>953595</td>\n",
       "      <td>https://www.airbnb.com/rooms/953595</td>\n",
       "      <td>20160104002432</td>\n",
       "      <td>2016-01-04</td>\n",
       "      <td>Bright &amp; Airy Queen Anne Apartment</td>\n",
       "      <td>Chemically sensitive? We've removed the irrita...</td>\n",
       "      <td>Beautiful, hypoallergenic apartment in an extr...</td>\n",
       "      <td>Chemically sensitive? We've removed the irrita...</td>\n",
       "      <td>Queen Anne is a wonderful, truly functional vi...</td>\n",
       "      <td>What's up with the free pillows?  Our home was...</td>\n",
       "      <td>...</td>\n",
       "      <td>NaN</td>\n",
       "      <td>WASHINGTON</td>\n",
       "      <td>f</td>\n",
       "      <td>strict</td>\n",
       "      <td>t</td>\n",
       "      <td>t</td>\n",
       "      <td>6</td>\n",
       "      <td>1.48</td>\n",
       "      <td>74</td>\n",
       "      <td>170.931271</td>\n",
       "    </tr>\n",
       "    <tr>\n",
       "      <th>2</th>\n",
       "      <td>3308979</td>\n",
       "      <td>https://www.airbnb.com/rooms/3308979</td>\n",
       "      <td>20160104002432</td>\n",
       "      <td>2016-01-04</td>\n",
       "      <td>New Modern House-Amazing water view</td>\n",
       "      <td>New modern house built in 2013.  Spectacular s...</td>\n",
       "      <td>Our house is modern, light and fresh with a wa...</td>\n",
       "      <td>New modern house built in 2013.  Spectacular s...</td>\n",
       "      <td>Upper Queen Anne is a charming neighborhood fu...</td>\n",
       "      <td>Our house is located just 5 short blocks to To...</td>\n",
       "      <td>...</td>\n",
       "      <td>NaN</td>\n",
       "      <td>WASHINGTON</td>\n",
       "      <td>f</td>\n",
       "      <td>strict</td>\n",
       "      <td>f</td>\n",
       "      <td>f</td>\n",
       "      <td>2</td>\n",
       "      <td>1.15</td>\n",
       "      <td>145</td>\n",
       "      <td>1301.818182</td>\n",
       "    </tr>\n",
       "    <tr>\n",
       "      <th>3</th>\n",
       "      <td>7421966</td>\n",
       "      <td>https://www.airbnb.com/rooms/7421966</td>\n",
       "      <td>20160104002432</td>\n",
       "      <td>2016-01-04</td>\n",
       "      <td>Queen Anne Chateau</td>\n",
       "      <td>A charming apartment that sits atop Queen Anne...</td>\n",
       "      <td>NaN</td>\n",
       "      <td>A charming apartment that sits atop Queen Anne...</td>\n",
       "      <td>NaN</td>\n",
       "      <td>NaN</td>\n",
       "      <td>...</td>\n",
       "      <td>NaN</td>\n",
       "      <td>WASHINGTON</td>\n",
       "      <td>f</td>\n",
       "      <td>flexible</td>\n",
       "      <td>f</td>\n",
       "      <td>f</td>\n",
       "      <td>1</td>\n",
       "      <td>NaN</td>\n",
       "      <td>222</td>\n",
       "      <td>100.000000</td>\n",
       "    </tr>\n",
       "    <tr>\n",
       "      <th>4</th>\n",
       "      <td>5956968</td>\n",
       "      <td>https://www.airbnb.com/rooms/5956968</td>\n",
       "      <td>20160104002432</td>\n",
       "      <td>2016-01-04</td>\n",
       "      <td>Private unit in a 1920s mansion</td>\n",
       "      <td>We're renting out a small private unit of one ...</td>\n",
       "      <td>If you include a bit of your background in you...</td>\n",
       "      <td>We're renting out a small private unit of one ...</td>\n",
       "      <td>This part of Queen Anne has wonderful views an...</td>\n",
       "      <td>Let me know if you need anything or have sugge...</td>\n",
       "      <td>...</td>\n",
       "      <td>NaN</td>\n",
       "      <td>WASHINGTON</td>\n",
       "      <td>f</td>\n",
       "      <td>strict</td>\n",
       "      <td>f</td>\n",
       "      <td>f</td>\n",
       "      <td>1</td>\n",
       "      <td>2.45</td>\n",
       "      <td>63</td>\n",
       "      <td>125.629139</td>\n",
       "    </tr>\n",
       "  </tbody>\n",
       "</table>\n",
       "<p>5 rows × 92 columns</p>\n",
       "</div>"
      ],
      "text/plain": [
       "        id                           listing_url       scrape_id last_scraped  \\\n",
       "0   241032   https://www.airbnb.com/rooms/241032  20160104002432   2016-01-04   \n",
       "1   953595   https://www.airbnb.com/rooms/953595  20160104002432   2016-01-04   \n",
       "2  3308979  https://www.airbnb.com/rooms/3308979  20160104002432   2016-01-04   \n",
       "3  7421966  https://www.airbnb.com/rooms/7421966  20160104002432   2016-01-04   \n",
       "4  5956968  https://www.airbnb.com/rooms/5956968  20160104002432   2016-01-04   \n",
       "\n",
       "                                  name  \\\n",
       "0         Stylish Queen Anne Apartment   \n",
       "1   Bright & Airy Queen Anne Apartment   \n",
       "2  New Modern House-Amazing water view   \n",
       "3                   Queen Anne Chateau   \n",
       "4      Private unit in a 1920s mansion   \n",
       "\n",
       "                                             summary  \\\n",
       "0                                                NaN   \n",
       "1  Chemically sensitive? We've removed the irrita...   \n",
       "2  New modern house built in 2013.  Spectacular s...   \n",
       "3  A charming apartment that sits atop Queen Anne...   \n",
       "4  We're renting out a small private unit of one ...   \n",
       "\n",
       "                                               space  \\\n",
       "0  Make your self at home in this charming one-be...   \n",
       "1  Beautiful, hypoallergenic apartment in an extr...   \n",
       "2  Our house is modern, light and fresh with a wa...   \n",
       "3                                                NaN   \n",
       "4  If you include a bit of your background in you...   \n",
       "\n",
       "                                         description  \\\n",
       "0  Make your self at home in this charming one-be...   \n",
       "1  Chemically sensitive? We've removed the irrita...   \n",
       "2  New modern house built in 2013.  Spectacular s...   \n",
       "3  A charming apartment that sits atop Queen Anne...   \n",
       "4  We're renting out a small private unit of one ...   \n",
       "\n",
       "                               neighborhood_overview  \\\n",
       "0                                                NaN   \n",
       "1  Queen Anne is a wonderful, truly functional vi...   \n",
       "2  Upper Queen Anne is a charming neighborhood fu...   \n",
       "3                                                NaN   \n",
       "4  This part of Queen Anne has wonderful views an...   \n",
       "\n",
       "                                               notes  ... license  \\\n",
       "0                                                NaN  ...     NaN   \n",
       "1  What's up with the free pillows?  Our home was...  ...     NaN   \n",
       "2  Our house is located just 5 short blocks to To...  ...     NaN   \n",
       "3                                                NaN  ...     NaN   \n",
       "4  Let me know if you need anything or have sugge...  ...     NaN   \n",
       "\n",
       "  jurisdiction_names instant_bookable cancellation_policy  \\\n",
       "0         WASHINGTON                f            moderate   \n",
       "1         WASHINGTON                f              strict   \n",
       "2         WASHINGTON                f              strict   \n",
       "3         WASHINGTON                f            flexible   \n",
       "4         WASHINGTON                f              strict   \n",
       "\n",
       "  require_guest_profile_picture  require_guest_phone_verification  \\\n",
       "0                             f                                 f   \n",
       "1                             t                                 t   \n",
       "2                             f                                 f   \n",
       "3                             f                                 f   \n",
       "4                             f                                 f   \n",
       "\n",
       "  calculated_host_listings_count reviews_per_month days_booked    avg_price  \n",
       "0                              2              4.07          19    85.000000  \n",
       "1                              6              1.48          74   170.931271  \n",
       "2                              2              1.15         145  1301.818182  \n",
       "3                              1               NaN         222   100.000000  \n",
       "4                              1              2.45          63   125.629139  \n",
       "\n",
       "[5 rows x 92 columns]"
      ]
     },
     "execution_count": 312,
     "metadata": {},
     "output_type": "execute_result"
    }
   ],
   "source": [
    "# merge dataframes\n",
    "merged_df = pd.merge(df_booked, df_avg_price, on=['listing_id'], how='inner')\n",
    "merged_df.rename(columns={'price': 'avg_price', 'available': 'days_booked'}, inplace=True)\n",
    "\n",
    "# merge dataframes to listings\n",
    "df_listings = pd.merge(df_listings, merged_df, left_on='id', right_on='listing_id', how='inner')\n",
    "df_listings.head()"
   ]
  },
  {
   "cell_type": "markdown",
   "metadata": {},
   "source": [
    "## Analyzing Data"
   ]
  },
  {
   "cell_type": "markdown",
   "metadata": {},
   "source": [
    "### 1. Which neighborhoods in Seattle are the most popular?\n"
   ]
  },
  {
   "cell_type": "markdown",
   "metadata": {},
   "source": [
    "Bar plots were chosen to answer this question as the primary visualization tool for their ability to succinctly and effectively convey categorical data. Bar plots provide a clear representation, facilitating easy comparisons and identification of patterns. "
   ]
  },
  {
   "cell_type": "markdown",
   "metadata": {},
   "source": [
    "#### Average price per night"
   ]
  },
  {
   "cell_type": "markdown",
   "metadata": {},
   "source": [
    "Calculating the average price per night for each Seattle neighborhood group:"
   ]
  },
  {
   "cell_type": "code",
   "execution_count": 313,
   "metadata": {},
   "outputs": [
    {
     "data": {
      "text/html": [
       "<div>\n",
       "<style scoped>\n",
       "    .dataframe tbody tr th:only-of-type {\n",
       "        vertical-align: middle;\n",
       "    }\n",
       "\n",
       "    .dataframe tbody tr th {\n",
       "        vertical-align: top;\n",
       "    }\n",
       "\n",
       "    .dataframe thead th {\n",
       "        text-align: right;\n",
       "    }\n",
       "</style>\n",
       "<table border=\"1\" class=\"dataframe\">\n",
       "  <thead>\n",
       "    <tr style=\"text-align: right;\">\n",
       "      <th></th>\n",
       "      <th>avg_price</th>\n",
       "    </tr>\n",
       "    <tr>\n",
       "      <th>neighbourhood_group_cleansed</th>\n",
       "      <th></th>\n",
       "    </tr>\n",
       "  </thead>\n",
       "  <tbody>\n",
       "    <tr>\n",
       "      <th>Magnolia</th>\n",
       "      <td>187.163842</td>\n",
       "    </tr>\n",
       "    <tr>\n",
       "      <th>Downtown</th>\n",
       "      <td>177.702021</td>\n",
       "    </tr>\n",
       "    <tr>\n",
       "      <th>Queen Anne</th>\n",
       "      <td>166.321899</td>\n",
       "    </tr>\n",
       "    <tr>\n",
       "      <th>Cascade</th>\n",
       "      <td>147.152582</td>\n",
       "    </tr>\n",
       "    <tr>\n",
       "      <th>West Seattle</th>\n",
       "      <td>145.251763</td>\n",
       "    </tr>\n",
       "    <tr>\n",
       "      <th>Capitol Hill</th>\n",
       "      <td>135.891009</td>\n",
       "    </tr>\n",
       "    <tr>\n",
       "      <th>Central Area</th>\n",
       "      <td>131.702636</td>\n",
       "    </tr>\n",
       "    <tr>\n",
       "      <th>Other neighborhoods</th>\n",
       "      <td>128.856905</td>\n",
       "    </tr>\n",
       "    <tr>\n",
       "      <th>Ballard</th>\n",
       "      <td>124.835619</td>\n",
       "    </tr>\n",
       "    <tr>\n",
       "      <th>Interbay</th>\n",
       "      <td>113.116264</td>\n",
       "    </tr>\n",
       "    <tr>\n",
       "      <th>Lake City</th>\n",
       "      <td>104.780047</td>\n",
       "    </tr>\n",
       "    <tr>\n",
       "      <th>Seward Park</th>\n",
       "      <td>103.704242</td>\n",
       "    </tr>\n",
       "    <tr>\n",
       "      <th>Northgate</th>\n",
       "      <td>98.522320</td>\n",
       "    </tr>\n",
       "    <tr>\n",
       "      <th>Rainier Valley</th>\n",
       "      <td>97.914296</td>\n",
       "    </tr>\n",
       "    <tr>\n",
       "      <th>University District</th>\n",
       "      <td>96.252349</td>\n",
       "    </tr>\n",
       "    <tr>\n",
       "      <th>Beacon Hill</th>\n",
       "      <td>90.637029</td>\n",
       "    </tr>\n",
       "    <tr>\n",
       "      <th>Delridge</th>\n",
       "      <td>84.478464</td>\n",
       "    </tr>\n",
       "  </tbody>\n",
       "</table>\n",
       "</div>"
      ],
      "text/plain": [
       "                               avg_price\n",
       "neighbourhood_group_cleansed            \n",
       "Magnolia                      187.163842\n",
       "Downtown                      177.702021\n",
       "Queen Anne                    166.321899\n",
       "Cascade                       147.152582\n",
       "West Seattle                  145.251763\n",
       "Capitol Hill                  135.891009\n",
       "Central Area                  131.702636\n",
       "Other neighborhoods           128.856905\n",
       "Ballard                       124.835619\n",
       "Interbay                      113.116264\n",
       "Lake City                     104.780047\n",
       "Seward Park                   103.704242\n",
       "Northgate                      98.522320\n",
       "Rainier Valley                 97.914296\n",
       "University District            96.252349\n",
       "Beacon Hill                    90.637029\n",
       "Delridge                       84.478464"
      ]
     },
     "execution_count": 313,
     "metadata": {},
     "output_type": "execute_result"
    }
   ],
   "source": [
    "#popular in terms of df_avg_price\n",
    "columns = ['neighbourhood_group_cleansed', 'avg_price']\n",
    "df_neighbourhood_avgprice = df_listings[columns].groupby('neighbourhood_group_cleansed').mean()\n",
    "df_neighbourhood_avgprice = df_neighbourhood_avgprice.sort_values('avg_price', ascending=False)\n",
    "df_neighbourhood_avgprice"
   ]
  },
  {
   "cell_type": "markdown",
   "metadata": {},
   "source": [
    "Creating a bar plot to compare the price per night for the neighborhoods"
   ]
  },
  {
   "cell_type": "code",
   "execution_count": 314,
   "metadata": {},
   "outputs": [
    {
     "data": {
      "image/png": "[encoded data removed]",
      "text/plain": [
       "<Figure size 1080x432 with 1 Axes>"
      ]
     },
     "metadata": {},
     "output_type": "display_data"
    }
   ],
   "source": [
    "sns.set(style=\"whitegrid\")\n",
    "\n",
    "# Create a barplot\n",
    "plt.figure(figsize=(15, 6))\n",
    "barplot = sns.barplot(x=df_neighbourhood_avgprice.index , y=df_neighbourhood_avgprice.avg_price, data=df_neighbourhood_avgprice, palette='BuGn_r', edgecolor='grey', hue=df_neighbourhood_avgprice.index, legend=False)\n",
    "\n",
    "# Adding labels and title\n",
    "plt.xlabel('Neighbourhood')\n",
    "plt.ylabel('Average Price [$]')\n",
    "plt.title('Average Price by Neighbourhood Group Cleansed')\n",
    "\n",
    "plt.xticks(rotation=45)\n",
    "\n",
    "# Adjust layout to prevent clipping of rotated labels\n",
    "plt.tight_layout()\n",
    "\n",
    "# Show the plot\n",
    "plt.show();"
   ]
  },
  {
   "cell_type": "markdown",
   "metadata": {},
   "source": [
    "The neighborhoods with the highest average price per night are Magnolia, Downtown, and Queen Anne."
   ]
  },
  {
   "cell_type": "markdown",
   "metadata": {},
   "source": [
    "#### Occupation rate"
   ]
  },
  {
   "cell_type": "markdown",
   "metadata": {},
   "source": [
    "Calculating the occupation rate for each neighborhood group in Seattle:"
   ]
  },
  {
   "cell_type": "code",
   "execution_count": 315,
   "metadata": {},
   "outputs": [
    {
     "data": {
      "text/html": [
       "<div>\n",
       "<style scoped>\n",
       "    .dataframe tbody tr th:only-of-type {\n",
       "        vertical-align: middle;\n",
       "    }\n",
       "\n",
       "    .dataframe tbody tr th {\n",
       "        vertical-align: top;\n",
       "    }\n",
       "\n",
       "    .dataframe thead th {\n",
       "        text-align: right;\n",
       "    }\n",
       "</style>\n",
       "<table border=\"1\" class=\"dataframe\">\n",
       "  <thead>\n",
       "    <tr style=\"text-align: right;\">\n",
       "      <th></th>\n",
       "      <th>days_booked</th>\n",
       "    </tr>\n",
       "    <tr>\n",
       "      <th>neighbourhood_group_cleansed</th>\n",
       "      <th></th>\n",
       "    </tr>\n",
       "  </thead>\n",
       "  <tbody>\n",
       "    <tr>\n",
       "      <th>Cascade</th>\n",
       "      <td>183.573333</td>\n",
       "    </tr>\n",
       "    <tr>\n",
       "      <th>Seward Park</th>\n",
       "      <td>171.300000</td>\n",
       "    </tr>\n",
       "    <tr>\n",
       "      <th>Capitol Hill</th>\n",
       "      <td>159.414163</td>\n",
       "    </tr>\n",
       "    <tr>\n",
       "      <th>Queen Anne</th>\n",
       "      <td>155.403042</td>\n",
       "    </tr>\n",
       "    <tr>\n",
       "      <th>Central Area</th>\n",
       "      <td>152.168966</td>\n",
       "    </tr>\n",
       "    <tr>\n",
       "      <th>Other neighborhoods</th>\n",
       "      <td>147.289474</td>\n",
       "    </tr>\n",
       "    <tr>\n",
       "      <th>University District</th>\n",
       "      <td>145.923077</td>\n",
       "    </tr>\n",
       "    <tr>\n",
       "      <th>Beacon Hill</th>\n",
       "      <td>142.222222</td>\n",
       "    </tr>\n",
       "    <tr>\n",
       "      <th>Downtown</th>\n",
       "      <td>141.235789</td>\n",
       "    </tr>\n",
       "    <tr>\n",
       "      <th>Rainier Valley</th>\n",
       "      <td>139.569343</td>\n",
       "    </tr>\n",
       "    <tr>\n",
       "      <th>West Seattle</th>\n",
       "      <td>131.815476</td>\n",
       "    </tr>\n",
       "    <tr>\n",
       "      <th>Northgate</th>\n",
       "      <td>130.564516</td>\n",
       "    </tr>\n",
       "    <tr>\n",
       "      <th>Magnolia</th>\n",
       "      <td>128.641026</td>\n",
       "    </tr>\n",
       "    <tr>\n",
       "      <th>Ballard</th>\n",
       "      <td>126.024390</td>\n",
       "    </tr>\n",
       "    <tr>\n",
       "      <th>Interbay</th>\n",
       "      <td>124.200000</td>\n",
       "    </tr>\n",
       "    <tr>\n",
       "      <th>Lake City</th>\n",
       "      <td>120.297872</td>\n",
       "    </tr>\n",
       "    <tr>\n",
       "      <th>Delridge</th>\n",
       "      <td>117.580645</td>\n",
       "    </tr>\n",
       "  </tbody>\n",
       "</table>\n",
       "</div>"
      ],
      "text/plain": [
       "                              days_booked\n",
       "neighbourhood_group_cleansed             \n",
       "Cascade                        183.573333\n",
       "Seward Park                    171.300000\n",
       "Capitol Hill                   159.414163\n",
       "Queen Anne                     155.403042\n",
       "Central Area                   152.168966\n",
       "Other neighborhoods            147.289474\n",
       "University District            145.923077\n",
       "Beacon Hill                    142.222222\n",
       "Downtown                       141.235789\n",
       "Rainier Valley                 139.569343\n",
       "West Seattle                   131.815476\n",
       "Northgate                      130.564516\n",
       "Magnolia                       128.641026\n",
       "Ballard                        126.024390\n",
       "Interbay                       124.200000\n",
       "Lake City                      120.297872\n",
       "Delridge                       117.580645"
      ]
     },
     "execution_count": 315,
     "metadata": {},
     "output_type": "execute_result"
    }
   ],
   "source": [
    "columns = ['neighbourhood_group_cleansed', 'days_booked']\n",
    "\n",
    "df_neighbourhood_daysbooked = df_listings[columns].groupby('neighbourhood_group_cleansed').mean()\n",
    "df_neighbourhood_daysbooked = df_neighbourhood_daysbooked.sort_values('days_booked', ascending=False)\n",
    "df_neighbourhood_daysbooked"
   ]
  },
  {
   "cell_type": "markdown",
   "metadata": {},
   "source": [
    "Creating a bar plot"
   ]
  },
  {
   "cell_type": "code",
   "execution_count": 316,
   "metadata": {},
   "outputs": [
    {
     "data": {
      "image/png": "[encoded data removed]",
      "text/plain": [
       "<Figure size 1080x432 with 1 Axes>"
      ]
     },
     "metadata": {},
     "output_type": "display_data"
    }
   ],
   "source": [
    "sns.set(style=\"whitegrid\")\n",
    "\n",
    "# Create a barplot\n",
    "plt.figure(figsize=(15, 6))\n",
    "barplot = sns.barplot(x=df_neighbourhood_daysbooked.index , y=df_neighbourhood_daysbooked.days_booked, data=df_neighbourhood_daysbooked, palette='BuGn_r', edgecolor='grey', hue=df_neighbourhood_daysbooked.index, legend=False)\n",
    "\n",
    "# Adding labels and title\n",
    "plt.xlabel('Neighbourhood')\n",
    "plt.ylabel('Average days booked')\n",
    "plt.title('Average days booked by Neighbourhood Group Cleansed')\n",
    "plt.xticks(rotation=45)\n",
    "\n",
    "# Adjust layout to prevent clipping of rotated labels\n",
    "plt.tight_layout()\n",
    "\n",
    "# Show the plot\n",
    "plt.show();"
   ]
  },
  {
   "cell_type": "markdown",
   "metadata": {},
   "source": [
    "The neighborhoods with the highest booking rates are Cascade, Seward Park and Capitol Hill.\n",
    "Queen Anne is a neighborhood that performs well in average price and booking rate is. It is placed 4th in terms of booking rate and placed 3rd in terms of avergade price.\n"
   ]
  },
  {
   "cell_type": "markdown",
   "metadata": {},
   "source": [
    "### 2. What are the peak and off-peak months for staying in an Airbnb in Seattle?\n"
   ]
  },
  {
   "cell_type": "markdown",
   "metadata": {},
   "source": [
    "To answer this question a line chart as a pivotal visualization tool to illustrate trends and variations in continuous data over time was chosen. Line charts offer a dynamic representation, allowing for the seamless depiction of patterns and fluctuations within the dataset."
   ]
  },
  {
   "cell_type": "markdown",
   "metadata": {},
   "source": [
    "#### How much does the price change over the months?"
   ]
  },
  {
   "cell_type": "code",
   "execution_count": 317,
   "metadata": {},
   "outputs": [],
   "source": [
    "# Creating a function to add a month column to the dataframe\n",
    "\n",
    "def add_month_column(df):\n",
    "    \"\"\"\n",
    "    Adds a 'month' column to the provided DataFrame based on the 'date' column (datetime).\n",
    "\n",
    "    Parameters:\n",
    "    - df (pd.DataFrame): The DataFrame containing a 'date' column.\n",
    "\n",
    "    Returns:\n",
    "    pd.DataFrame: The DataFrame with an additional 'month' column representing the month of each date.\n",
    "    \"\"\"\n",
    "    # Ensure 'date' column is in datetime format\n",
    "    df['date'] = pd.to_datetime(df['date'])\n",
    "\n",
    "    # Add 'month' column using lambda expression\n",
    "    df['month'] = df['date'].apply(lambda x: x.month)\n",
    "\n",
    "    return df"
   ]
  },
  {
   "cell_type": "markdown",
   "metadata": {},
   "source": [
    "Calculating the average price per night for each month:"
   ]
  },
  {
   "cell_type": "code",
   "execution_count": 318,
   "metadata": {},
   "outputs": [
    {
     "data": {
      "text/html": [
       "<div>\n",
       "<style scoped>\n",
       "    .dataframe tbody tr th:only-of-type {\n",
       "        vertical-align: middle;\n",
       "    }\n",
       "\n",
       "    .dataframe tbody tr th {\n",
       "        vertical-align: top;\n",
       "    }\n",
       "\n",
       "    .dataframe thead th {\n",
       "        text-align: right;\n",
       "    }\n",
       "</style>\n",
       "<table border=\"1\" class=\"dataframe\">\n",
       "  <thead>\n",
       "    <tr style=\"text-align: right;\">\n",
       "      <th></th>\n",
       "      <th>price</th>\n",
       "    </tr>\n",
       "    <tr>\n",
       "      <th>month</th>\n",
       "      <th></th>\n",
       "    </tr>\n",
       "  </thead>\n",
       "  <tbody>\n",
       "    <tr>\n",
       "      <th>1</th>\n",
       "      <td>122.912176</td>\n",
       "    </tr>\n",
       "    <tr>\n",
       "      <th>2</th>\n",
       "      <td>124.293927</td>\n",
       "    </tr>\n",
       "    <tr>\n",
       "      <th>3</th>\n",
       "      <td>128.644488</td>\n",
       "    </tr>\n",
       "    <tr>\n",
       "      <th>4</th>\n",
       "      <td>135.097005</td>\n",
       "    </tr>\n",
       "    <tr>\n",
       "      <th>5</th>\n",
       "      <td>139.538183</td>\n",
       "    </tr>\n",
       "  </tbody>\n",
       "</table>\n",
       "</div>"
      ],
      "text/plain": [
       "            price\n",
       "month            \n",
       "1      122.912176\n",
       "2      124.293927\n",
       "3      128.644488\n",
       "4      135.097005\n",
       "5      139.538183"
      ]
     },
     "execution_count": 318,
     "metadata": {},
     "output_type": "execute_result"
    }
   ],
   "source": [
    "df_calendar = add_month_column(df_calendar)\n",
    "df_calendar_month_price = df_calendar[['month', 'price']].groupby('month').mean()\n",
    "df_calendar_month_price.head()"
   ]
  },
  {
   "cell_type": "markdown",
   "metadata": {},
   "source": [
    "Creating a line chart to see  the average price trend for Seattle over months in 2016"
   ]
  },
  {
   "cell_type": "code",
   "execution_count": 319,
   "metadata": {},
   "outputs": [
    {
     "data": {
      "image/png": "[encoded data removed]",
      "text/plain": [
       "<Figure size 720x432 with 1 Axes>"
      ]
     },
     "metadata": {},
     "output_type": "display_data"
    }
   ],
   "source": [
    "plt.figure(figsize=(10, 6))\n",
    "plt.plot(df_calendar_month_price.index, df_calendar_month_price['price'], marker='o', linestyle='-', color='b')\n",
    "\n",
    "# Adding labels and title\n",
    "plt.xlabel('Month')\n",
    "plt.ylabel('Price [$]')\n",
    "plt.title('Average price trend for Seattle over months in 2016')\n",
    "\n",
    "# Show the plot\n",
    "plt.show()"
   ]
  },
  {
   "cell_type": "markdown",
   "metadata": {},
   "source": [
    "The average price is high in the summer months and peaks in July."
   ]
  },
  {
   "cell_type": "markdown",
   "metadata": {},
   "source": [
    "#### How much does the occupation rate change over the months?"
   ]
  },
  {
   "cell_type": "markdown",
   "metadata": {},
   "source": [
    "Calculating the average days booked per month:"
   ]
  },
  {
   "cell_type": "code",
   "execution_count": 320,
   "metadata": {},
   "outputs": [
    {
     "data": {
      "text/html": [
       "<div>\n",
       "<style scoped>\n",
       "    .dataframe tbody tr th:only-of-type {\n",
       "        vertical-align: middle;\n",
       "    }\n",
       "\n",
       "    .dataframe tbody tr th {\n",
       "        vertical-align: top;\n",
       "    }\n",
       "\n",
       "    .dataframe thead th {\n",
       "        text-align: right;\n",
       "    }\n",
       "</style>\n",
       "<table border=\"1\" class=\"dataframe\">\n",
       "  <thead>\n",
       "    <tr style=\"text-align: right;\">\n",
       "      <th></th>\n",
       "      <th>booked</th>\n",
       "    </tr>\n",
       "    <tr>\n",
       "      <th>month</th>\n",
       "      <th></th>\n",
       "    </tr>\n",
       "  </thead>\n",
       "  <tbody>\n",
       "    <tr>\n",
       "      <th>1</th>\n",
       "      <td>49603</td>\n",
       "    </tr>\n",
       "    <tr>\n",
       "      <th>2</th>\n",
       "      <td>37401</td>\n",
       "    </tr>\n",
       "    <tr>\n",
       "      <th>3</th>\n",
       "      <td>34420</td>\n",
       "    </tr>\n",
       "    <tr>\n",
       "      <th>4</th>\n",
       "      <td>38503</td>\n",
       "    </tr>\n",
       "    <tr>\n",
       "      <th>5</th>\n",
       "      <td>38387</td>\n",
       "    </tr>\n",
       "  </tbody>\n",
       "</table>\n",
       "</div>"
      ],
      "text/plain": [
       "       booked\n",
       "month        \n",
       "1       49603\n",
       "2       37401\n",
       "3       34420\n",
       "4       38503\n",
       "5       38387"
      ]
     },
     "execution_count": 320,
     "metadata": {},
     "output_type": "execute_result"
    }
   ],
   "source": [
    "df_calendar['booked'] = df_calendar['available'].map({'t': False, 'f': True})\n",
    "df_calendar_bookingspermonth = df_calendar[['month', 'booked']].groupby('month').sum()\n",
    "df_calendar_bookingspermonth.head()"
   ]
  },
  {
   "cell_type": "markdown",
   "metadata": {},
   "source": [
    "Creating a line chart to see the booked days per month for Seattle in 2016"
   ]
  },
  {
   "cell_type": "code",
   "execution_count": 321,
   "metadata": {},
   "outputs": [
    {
     "data": {
      "image/png": "[encoded data removed]",
      "text/plain": [
       "<Figure size 720x432 with 1 Axes>"
      ]
     },
     "metadata": {},
     "output_type": "display_data"
    }
   ],
   "source": [
    "plt.figure(figsize=(10, 6))\n",
    "plt.plot(df_calendar_bookingspermonth.index, df_calendar_bookingspermonth['booked'], marker='o', linestyle='-', color='b')\n",
    "\n",
    "# Adding labels and title\n",
    "plt.xlabel('Month')\n",
    "plt.ylabel('Number of bookings')\n",
    "plt.title('Booked days per month for Seattle in 2016')\n",
    "\n",
    "# Show the plot\n",
    "plt.show()"
   ]
  },
  {
   "cell_type": "markdown",
   "metadata": {},
   "source": [
    "The number of Airbnb bookings in Seattle have a peak in January and a smaller peak in July."
   ]
  },
  {
   "cell_type": "markdown",
   "metadata": {},
   "source": [
    "### 3. What variables hold the most significance in attaining a high occupancy rate?"
   ]
  },
  {
   "cell_type": "markdown",
   "metadata": {},
   "source": [
    "#### Linear Regression Model\n",
    "\n",
    " To answer this question, a linear regression model was chosen. Linear regression allows for the identification of relationships and quantification of the impact of independent variables on the dependent one. Through this method, one can uncover the most influential factors, providing a quantitative basis for understanding their impact."
   ]
  },
  {
   "cell_type": "markdown",
   "metadata": {},
   "source": [
    "Choosing relevant colummns for the following investigation of the dataset"
   ]
  },
  {
   "cell_type": "code",
   "execution_count": 322,
   "metadata": {},
   "outputs": [
    {
     "data": {
      "text/html": [
       "<div>\n",
       "<style scoped>\n",
       "    .dataframe tbody tr th:only-of-type {\n",
       "        vertical-align: middle;\n",
       "    }\n",
       "\n",
       "    .dataframe tbody tr th {\n",
       "        vertical-align: top;\n",
       "    }\n",
       "\n",
       "    .dataframe thead th {\n",
       "        text-align: right;\n",
       "    }\n",
       "</style>\n",
       "<table border=\"1\" class=\"dataframe\">\n",
       "  <thead>\n",
       "    <tr style=\"text-align: right;\">\n",
       "      <th></th>\n",
       "      <th>days_booked</th>\n",
       "      <th>host_is_superhost</th>\n",
       "      <th>room_type</th>\n",
       "      <th>cleaning_fee</th>\n",
       "      <th>number_of_reviews</th>\n",
       "      <th>review_scores_rating</th>\n",
       "      <th>bathrooms</th>\n",
       "      <th>bedrooms</th>\n",
       "      <th>beds</th>\n",
       "    </tr>\n",
       "  </thead>\n",
       "  <tbody>\n",
       "    <tr>\n",
       "      <th>0</th>\n",
       "      <td>19</td>\n",
       "      <td>f</td>\n",
       "      <td>Entire home/apt</td>\n",
       "      <td>NaN</td>\n",
       "      <td>207</td>\n",
       "      <td>95.0</td>\n",
       "      <td>1.0</td>\n",
       "      <td>1.0</td>\n",
       "      <td>1.0</td>\n",
       "    </tr>\n",
       "    <tr>\n",
       "      <th>1</th>\n",
       "      <td>74</td>\n",
       "      <td>t</td>\n",
       "      <td>Entire home/apt</td>\n",
       "      <td>40.0</td>\n",
       "      <td>43</td>\n",
       "      <td>96.0</td>\n",
       "      <td>1.0</td>\n",
       "      <td>1.0</td>\n",
       "      <td>1.0</td>\n",
       "    </tr>\n",
       "    <tr>\n",
       "      <th>2</th>\n",
       "      <td>145</td>\n",
       "      <td>f</td>\n",
       "      <td>Entire home/apt</td>\n",
       "      <td>300.0</td>\n",
       "      <td>20</td>\n",
       "      <td>97.0</td>\n",
       "      <td>4.5</td>\n",
       "      <td>5.0</td>\n",
       "      <td>7.0</td>\n",
       "    </tr>\n",
       "    <tr>\n",
       "      <th>3</th>\n",
       "      <td>222</td>\n",
       "      <td>f</td>\n",
       "      <td>Entire home/apt</td>\n",
       "      <td>NaN</td>\n",
       "      <td>0</td>\n",
       "      <td>NaN</td>\n",
       "      <td>1.0</td>\n",
       "      <td>0.0</td>\n",
       "      <td>2.0</td>\n",
       "    </tr>\n",
       "    <tr>\n",
       "      <th>4</th>\n",
       "      <td>63</td>\n",
       "      <td>f</td>\n",
       "      <td>Private room</td>\n",
       "      <td>40.0</td>\n",
       "      <td>17</td>\n",
       "      <td>95.0</td>\n",
       "      <td>1.0</td>\n",
       "      <td>1.0</td>\n",
       "      <td>1.0</td>\n",
       "    </tr>\n",
       "  </tbody>\n",
       "</table>\n",
       "</div>"
      ],
      "text/plain": [
       "   days_booked host_is_superhost        room_type  cleaning_fee  \\\n",
       "0           19                 f  Entire home/apt           NaN   \n",
       "1           74                 t  Entire home/apt          40.0   \n",
       "2          145                 f  Entire home/apt         300.0   \n",
       "3          222                 f  Entire home/apt           NaN   \n",
       "4           63                 f     Private room          40.0   \n",
       "\n",
       "   number_of_reviews  review_scores_rating  bathrooms  bedrooms  beds  \n",
       "0                207                  95.0        1.0       1.0   1.0  \n",
       "1                 43                  96.0        1.0       1.0   1.0  \n",
       "2                 20                  97.0        4.5       5.0   7.0  \n",
       "3                  0                   NaN        1.0       0.0   2.0  \n",
       "4                 17                  95.0        1.0       1.0   1.0  "
      ]
     },
     "execution_count": 322,
     "metadata": {},
     "output_type": "execute_result"
    }
   ],
   "source": [
    "df_model = df_listings[['days_booked', 'host_is_superhost', 'room_type', 'cleaning_fee', 'number_of_reviews', 'review_scores_rating', 'bathrooms', 'bedrooms', 'beds']]\n",
    "df_model.head()"
   ]
  },
  {
   "cell_type": "markdown",
   "metadata": {},
   "source": [
    "#### Cleaning and formatting data to prepare for modelling"
   ]
  },
  {
   "cell_type": "code",
   "execution_count": 323,
   "metadata": {},
   "outputs": [
    {
     "data": {
      "text/plain": [
       "host_is_superhost\n",
       "f    2447\n",
       "t     691\n",
       "Name: count, dtype: int64"
      ]
     },
     "execution_count": 323,
     "metadata": {},
     "output_type": "execute_result"
    }
   ],
   "source": [
    "df_model.host_is_superhost.value_counts()"
   ]
  },
  {
   "cell_type": "markdown",
   "metadata": {},
   "source": [
    "The column host_is_superhost is binary. For the further analysis the values will be replaced with True and False:"
   ]
  },
  {
   "cell_type": "code",
   "execution_count": 324,
   "metadata": {},
   "outputs": [
    {
     "name": "stderr",
     "output_type": "stream",
     "text": [
      "/var/folders/ml/jnncc33j5b34g26mm7srrjhr0000gn/T/ipykernel_2772/1538270096.py:1: SettingWithCopyWarning: \n",
      "A value is trying to be set on a copy of a slice from a DataFrame.\n",
      "Try using .loc[row_indexer,col_indexer] = value instead\n",
      "\n",
      "See the caveats in the documentation: https://pandas.pydata.org/pandas-docs/stable/user_guide/indexing.html#returning-a-view-versus-a-copy\n",
      "  df_model['host_is_superhost'] = df_model['host_is_superhost'].map({'t': True, 'f': False})\n"
     ]
    }
   ],
   "source": [
    "df_model['host_is_superhost'] = df_model['host_is_superhost'].map({'t': True, 'f': False})"
   ]
  },
  {
   "cell_type": "code",
   "execution_count": 325,
   "metadata": {},
   "outputs": [],
   "source": [
    "# dropping columns due to low data availability\n",
    "# df_model = df_model.drop('experiences_offered', axis=1)\n",
    "# df_model = df_model.drop('square_feet', axis=1)\n"
   ]
  },
  {
   "cell_type": "markdown",
   "metadata": {},
   "source": [
    "Why filling nan values with the mean?\n",
    "\n",
    " By imputing missing values with the mean, it is avoided to discard entire rows or columns with missing data. This helps in maximizing the utilization of available information, leading to more comprehensive analyses."
   ]
  },
  {
   "cell_type": "code",
   "execution_count": 326,
   "metadata": {},
   "outputs": [
    {
     "name": "stderr",
     "output_type": "stream",
     "text": [
      "/var/folders/ml/jnncc33j5b34g26mm7srrjhr0000gn/T/ipykernel_2772/364640394.py:2: SettingWithCopyWarning: \n",
      "A value is trying to be set on a copy of a slice from a DataFrame.\n",
      "Try using .loc[row_indexer,col_indexer] = value instead\n",
      "\n",
      "See the caveats in the documentation: https://pandas.pydata.org/pandas-docs/stable/user_guide/indexing.html#returning-a-view-versus-a-copy\n",
      "  df_model.review_scores_rating = df_model.review_scores_rating.fillna(df_model.review_scores_rating.mean())\n",
      "/var/folders/ml/jnncc33j5b34g26mm7srrjhr0000gn/T/ipykernel_2772/364640394.py:3: SettingWithCopyWarning: \n",
      "A value is trying to be set on a copy of a slice from a DataFrame.\n",
      "Try using .loc[row_indexer,col_indexer] = value instead\n",
      "\n",
      "See the caveats in the documentation: https://pandas.pydata.org/pandas-docs/stable/user_guide/indexing.html#returning-a-view-versus-a-copy\n",
      "  df_model.cleaning_fee = df_model.cleaning_fee.fillna(df_model.cleaning_fee.mean())\n",
      "/var/folders/ml/jnncc33j5b34g26mm7srrjhr0000gn/T/ipykernel_2772/364640394.py:4: SettingWithCopyWarning: \n",
      "A value is trying to be set on a copy of a slice from a DataFrame.\n",
      "Try using .loc[row_indexer,col_indexer] = value instead\n",
      "\n",
      "See the caveats in the documentation: https://pandas.pydata.org/pandas-docs/stable/user_guide/indexing.html#returning-a-view-versus-a-copy\n",
      "  df_model.bathrooms = df_model.bathrooms.fillna(df_model.bathrooms.mean())\n",
      "/var/folders/ml/jnncc33j5b34g26mm7srrjhr0000gn/T/ipykernel_2772/364640394.py:5: SettingWithCopyWarning: \n",
      "A value is trying to be set on a copy of a slice from a DataFrame.\n",
      "Try using .loc[row_indexer,col_indexer] = value instead\n",
      "\n",
      "See the caveats in the documentation: https://pandas.pydata.org/pandas-docs/stable/user_guide/indexing.html#returning-a-view-versus-a-copy\n",
      "  df_model.bedrooms = df_model.bedrooms.fillna(df_model.bedrooms.mean())\n",
      "/var/folders/ml/jnncc33j5b34g26mm7srrjhr0000gn/T/ipykernel_2772/364640394.py:6: SettingWithCopyWarning: \n",
      "A value is trying to be set on a copy of a slice from a DataFrame.\n",
      "Try using .loc[row_indexer,col_indexer] = value instead\n",
      "\n",
      "See the caveats in the documentation: https://pandas.pydata.org/pandas-docs/stable/user_guide/indexing.html#returning-a-view-versus-a-copy\n",
      "  df_model.beds = df_model.beds.fillna(df_model.beds.mean())\n"
     ]
    }
   ],
   "source": [
    "# Filling missing values with the column's average.\n",
    "df_model.review_scores_rating = df_model.review_scores_rating.fillna(df_model.review_scores_rating.mean())\n",
    "df_model.cleaning_fee = df_model.cleaning_fee.fillna(df_model.cleaning_fee.mean())\n",
    "df_model.bathrooms = df_model.bathrooms.fillna(df_model.bathrooms.mean())\n",
    "df_model.bedrooms = df_model.bedrooms.fillna(df_model.bedrooms.mean())\n",
    "df_model.beds = df_model.beds.fillna(df_model.beds.mean())"
   ]
  },
  {
   "cell_type": "markdown",
   "metadata": {},
   "source": [
    "#### Dealing with categorical values\n"
   ]
  },
  {
   "cell_type": "markdown",
   "metadata": {},
   "source": [
    "Dealing with categorical values in a linear regression requires converting them into a format that can be used in the model.\n",
    "Converting categorical variables into binary columns (0 or 1) for each category using one-hot encoding. Each category becomes a new column, and the presence of the category is represented by 1, while its absence is represented by 0."
   ]
  },
  {
   "cell_type": "code",
   "execution_count": 327,
   "metadata": {},
   "outputs": [],
   "source": [
    "# create dummy columns\n",
    "dummy_cols_df = pd.get_dummies(df_model['room_type'], dummy_na=False)"
   ]
  },
  {
   "cell_type": "code",
   "execution_count": 328,
   "metadata": {},
   "outputs": [],
   "source": [
    "# drop old categorial column\n",
    "df_model = pd.concat([df_model, dummy_cols_df], axis=1)\n",
    "df_model = df_model.drop('room_type', axis=1)"
   ]
  },
  {
   "cell_type": "markdown",
   "metadata": {},
   "source": [
    "#### Build Model"
   ]
  },
  {
   "cell_type": "code",
   "execution_count": 329,
   "metadata": {},
   "outputs": [],
   "source": [
    "# define explanatory and response variables\n",
    "\n",
    "y = df_model['days_booked']\n",
    "X = df_model.drop('days_booked', axis=1)"
   ]
  },
  {
   "cell_type": "code",
   "execution_count": 330,
   "metadata": {},
   "outputs": [],
   "source": [
    "#Split into train and test\n",
    "X_train, X_test, y_train, y_test = train_test_split(X, y, test_size=.3, random_state=42)"
   ]
  },
  {
   "cell_type": "code",
   "execution_count": 331,
   "metadata": {},
   "outputs": [],
   "source": [
    "#lm_model = LinearRegression(normalize=True) # Instantiate\n",
    "lm_model = LinearRegression() # Instantiate\n",
    "\n",
    "lm_model.fit(X_train, y_train) #Fit\n",
    "\n",
    "y_test_preds = lm_model.predict(X_test)\n",
    "y_train_preds = lm_model.predict(X_train)\n",
    "\n",
    "test_score = r2_score(y_test, y_test_preds)\n",
    "train_score = r2_score(y_train, y_train_preds)"
   ]
  },
  {
   "cell_type": "markdown",
   "metadata": {},
   "source": [
    "#### Discussing the results of the linear regression model"
   ]
  },
  {
   "cell_type": "code",
   "execution_count": 332,
   "metadata": {},
   "outputs": [
    {
     "data": {
      "text/plain": [
       "(0.047065082020610105, 0.05102155520582308)"
      ]
     },
     "execution_count": 332,
     "metadata": {},
     "output_type": "execute_result"
    }
   ],
   "source": [
    "# Getting R2 value  for test and trained data\n",
    "test_score, train_score"
   ]
  },
  {
   "cell_type": "markdown",
   "metadata": {},
   "source": [
    "An R² value of 0.047065 is quite low. It suggests that only about 4.706% of the variance in the dependent variable can be explained by the independent variables in the linear regression model. This indicates that the linear relationship is weak or that there are other factors influencing the dependent variable that are not considered in the current model."
   ]
  },
  {
   "cell_type": "code",
   "execution_count": 333,
   "metadata": {},
   "outputs": [],
   "source": [
    "# Undderstanding the most influential coefficients of the linear model\n",
    "\n",
    "coefs_df = pd.DataFrame()\n",
    "coefs_df['est_int'] = X_train.columns\n",
    "coefs_df['coefs'] = lm_model.coef_\n",
    "coefs_df['abs_coefs'] = np.abs(lm_model.coef_)\n",
    "coefs_df = coefs_df.sort_values('abs_coefs', ascending=False)"
   ]
  },
  {
   "cell_type": "code",
   "execution_count": 334,
   "metadata": {},
   "outputs": [
    {
     "data": {
      "text/html": [
       "<div>\n",
       "<style scoped>\n",
       "    .dataframe tbody tr th:only-of-type {\n",
       "        vertical-align: middle;\n",
       "    }\n",
       "\n",
       "    .dataframe tbody tr th {\n",
       "        vertical-align: top;\n",
       "    }\n",
       "\n",
       "    .dataframe thead th {\n",
       "        text-align: right;\n",
       "    }\n",
       "</style>\n",
       "<table border=\"1\" class=\"dataframe\">\n",
       "  <thead>\n",
       "    <tr style=\"text-align: right;\">\n",
       "      <th></th>\n",
       "      <th>est_int</th>\n",
       "      <th>coefs</th>\n",
       "      <th>abs_coefs</th>\n",
       "    </tr>\n",
       "  </thead>\n",
       "  <tbody>\n",
       "    <tr>\n",
       "      <th>7</th>\n",
       "      <td>Entire home/apt</td>\n",
       "      <td>21.523267</td>\n",
       "      <td>21.523267</td>\n",
       "    </tr>\n",
       "    <tr>\n",
       "      <th>9</th>\n",
       "      <td>Shared room</td>\n",
       "      <td>-20.451712</td>\n",
       "      <td>20.451712</td>\n",
       "    </tr>\n",
       "    <tr>\n",
       "      <th>5</th>\n",
       "      <td>bedrooms</td>\n",
       "      <td>17.836003</td>\n",
       "      <td>17.836003</td>\n",
       "    </tr>\n",
       "    <tr>\n",
       "      <th>6</th>\n",
       "      <td>beds</td>\n",
       "      <td>-7.367737</td>\n",
       "      <td>7.367737</td>\n",
       "    </tr>\n",
       "    <tr>\n",
       "      <th>4</th>\n",
       "      <td>bathrooms</td>\n",
       "      <td>-7.228281</td>\n",
       "      <td>7.228281</td>\n",
       "    </tr>\n",
       "    <tr>\n",
       "      <th>0</th>\n",
       "      <td>host_is_superhost</td>\n",
       "      <td>4.784858</td>\n",
       "      <td>4.784858</td>\n",
       "    </tr>\n",
       "    <tr>\n",
       "      <th>8</th>\n",
       "      <td>Private room</td>\n",
       "      <td>-1.071556</td>\n",
       "      <td>1.071556</td>\n",
       "    </tr>\n",
       "    <tr>\n",
       "      <th>2</th>\n",
       "      <td>number_of_reviews</td>\n",
       "      <td>-0.594279</td>\n",
       "      <td>0.594279</td>\n",
       "    </tr>\n",
       "    <tr>\n",
       "      <th>1</th>\n",
       "      <td>cleaning_fee</td>\n",
       "      <td>-0.408244</td>\n",
       "      <td>0.408244</td>\n",
       "    </tr>\n",
       "    <tr>\n",
       "      <th>3</th>\n",
       "      <td>review_scores_rating</td>\n",
       "      <td>-0.004383</td>\n",
       "      <td>0.004383</td>\n",
       "    </tr>\n",
       "  </tbody>\n",
       "</table>\n",
       "</div>"
      ],
      "text/plain": [
       "                est_int      coefs  abs_coefs\n",
       "7       Entire home/apt  21.523267  21.523267\n",
       "9           Shared room -20.451712  20.451712\n",
       "5              bedrooms  17.836003  17.836003\n",
       "6                  beds  -7.367737   7.367737\n",
       "4             bathrooms  -7.228281   7.228281\n",
       "0     host_is_superhost   4.784858   4.784858\n",
       "8          Private room  -1.071556   1.071556\n",
       "2     number_of_reviews  -0.594279   0.594279\n",
       "1          cleaning_fee  -0.408244   0.408244\n",
       "3  review_scores_rating  -0.004383   0.004383"
      ]
     },
     "execution_count": 334,
     "metadata": {},
     "output_type": "execute_result"
    }
   ],
   "source": [
    "coefs_df.head(10)"
   ]
  },
  {
   "cell_type": "markdown",
   "metadata": {},
   "source": [
    "In summary of the linear regression coefficients, an entire home/apartment exhibits the most significant positive impact, while shared room has the highest negative effect. Surprisingly, the number of bedrooms demonstrates a positive influence, whereas the number of beds shows a negative impact, presenting a somewhat paradoxical relationship.\n",
    "\n",
    "Additionally, being a super host is advantageous, contributing positively to the occupancy rate, while the remaining variables appear to lack a substantial impact."
   ]
  },
  {
   "cell_type": "markdown",
   "metadata": {},
   "source": [
    "## Conclusion"
   ]
  },
  {
   "cell_type": "markdown",
   "metadata": {},
   "source": [
    "In this Udacity project, the dataset was analyzed to address key business questions for potential Airbnb investors in Seattle. The focus included identifying optimal districts and strategies for achieving high occupancy rates. Here are the main findings:\n",
    "\n",
    "1) Popular Neighborhoods:\n",
    "* Magnolia, Downtown, and Queen Anne had the highest average nightly prices.\n",
    "* Cascade, Seward Park, and Capitol Hill stood out with the highest booking rates.\n",
    "\n",
    "2) Peak and Off-Peak Months:\n",
    "* Summer months, especially July, exhibited peak average prices.\n",
    "* Booking activity peaked in January and had a smaller peak in July.\n",
    "\n",
    "3) Variables Influencing Occupancy Rate:\n",
    "* A linear regression model highlighted factors influencing the occupancy rate.\n",
    "* Notably, entire home/apartment had a significant positive impact, while shared room had the highest negative effect.\n",
    "* An intriguing paradox was observed: the number of bedrooms positively influenced occupancy, while the number of beds had a negative impact.\n",
    "* Being a super host was identified as advantageous for a positive impact on the occupancy rate.\n",
    "\n",
    "In summary, while certain factors influenced occupancy rates, the dataset suggested the presence of unexplored variables. Investors should consider a comprehensive approach, considering neighborhood popularity, seasonal pricing dynamics, and the nuanced impact of property features on occupancy rates."
   ]
  }
 ],
 "metadata": {
  "kernelspec": {
   "display_name": "udacity",
   "language": "python",
   "name": "python3"
  },
  "language_info": {
   "codemirror_mode": {
    "name": "ipython",
    "version": 3
   },
   "file_extension": ".py",
   "mimetype": "text/x-python",
   "name": "python",
   "nbconvert_exporter": "python",
   "pygments_lexer": "ipython3",
   "version": "3.9.7"
  }
 },
 "nbformat": 4,
 "nbformat_minor": 2
}
